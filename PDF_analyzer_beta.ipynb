{
 "cells": [
  {
   "cell_type": "markdown",
   "metadata": {},
   "source": [
    "# Automated PDF Text Search and Analyzer (Beta Version)\n",
    "Prepared by Hiro Yokoi, July 10, 2019<br><br>\n",
    "This is the temporary PDF analyzer to ease **text search** for **Portfolio Review and Analysis (PRA)** for managing urban spatial growth.\n",
    "\n",
    "**Limitations of this Script**\n",
    "- This PDF analyzer can only analyze ONE PDF file at a time at this moment. In the future, all the PDF files in a folder will be analyzed all at once.\n",
    "- If the file is OCR-read PDF, this PDF analyzer does not accurately read the text (particularly multiple phrases).\n",
    "\n",
    "**What you have to do**\n",
    "- All you have to do is to change `your_folder_path` and `your_pdf_file_name`. Then, the system will automatically anlyze the texts in the PDF.\n",
    "- If you want to change the search text, you can change the String part like `String = ['aaa', 'bbb', 'ccc', 'ddd']`. Be sure to type the **lower case** character. Text search is case sensitive."
   ]
  },
  {
   "cell_type": "markdown",
   "metadata": {},
   "source": [
    "### Import packages\n"
   ]
  },
  {
   "cell_type": "code",
   "execution_count": 11,
   "metadata": {},
   "outputs": [],
   "source": [
    "import pandas as pd\n",
    "import numpy as np\n",
    "import PyPDF2\n",
    "import textract\n",
    "import re\n",
    "import os\n",
    "import glob\n",
    "#from textblob import TextBlob\n",
    "#from nltk.tokenize import word_tokenize\n",
    "#from nltk.corpus import stopwords\n",
    "#import nltk\n",
    "#nltk.download('punkt')"
   ]
  },
  {
   "cell_type": "markdown",
   "metadata": {},
   "source": [
    "### Input your folder path and file name here. You need to change the folder path and file name."
   ]
  },
  {
   "cell_type": "code",
   "execution_count": 12,
   "metadata": {},
   "outputs": [],
   "source": [
    "# Please change the folder path and file name.\n",
    "# You shoud replace only after \"r'\". The path should be something like r'C:\\Users\\wbXXXXXX\\......'.\n",
    "your_folder_path = r'C:\\Users\\wb535782\\Desktop\\PRA\\P050772'\n",
    "your_pdf_file_name = r'P050772_ICR.pdf'"
   ]
  },
  {
   "cell_type": "markdown",
   "metadata": {},
   "source": [
    "### Extract text from PDF file"
   ]
  },
  {
   "cell_type": "code",
   "execution_count": 13,
   "metadata": {},
   "outputs": [],
   "source": [
    "# Establish complete file path\n",
    "complete_path = os.path.join(your_folder_path, your_pdf_file_name)\n",
    "\n",
    "# Open the pdf file\n",
    "pdfFileObj = open(complete_path,'rb')\n",
    "pdfReader = PyPDF2.PdfFileReader(pdfFileObj)\n",
    "\n",
    "# Discern the number of pages, so that search all the pages.\n",
    "num_pages = pdfReader.numPages\n",
    "\n",
    "# Extract text in each page.\n",
    "count = 0\n",
    "text = \"\"\n",
    "while count < num_pages:\n",
    "    pageObj = pdfReader.getPage(count)\n",
    "    count +=1\n",
    "    text += pageObj.extractText()\n",
    "\n",
    "# the condictional statement provides either the computer written document if its yes or the OCR scanned document if its no.\n",
    "if text != \"\":\n",
    "   text = text\n",
    "else:\n",
    "   text = textract.process(your_pdf_file_name, method='tesseract', language='eng')\n",
    "\n",
    "# Clean text by removing new page, tab, double white space.\n",
    "text = text.replace('\\n','').replace('\\t', '').lower()\n",
    "text = \" \".join(text.split())"
   ]
  },
  {
   "cell_type": "code",
   "execution_count": 14,
   "metadata": {},
   "outputs": [
    {
     "data": {
      "text/plain": [
       "'document of the world bank report no: icr00001050 implementation completion and results report (ibrd-70370) on a loan in the amount of eur 218.2 million (us$ 202.1 million equivalent) to the federativ'"
      ]
     },
     "execution_count": 14,
     "metadata": {},
     "output_type": "execute_result"
    }
   ],
   "source": [
    "# Show first 200 words.\n",
    "text[:200]"
   ]
  },
  {
   "cell_type": "markdown",
   "metadata": {},
   "source": [
    "### Define search phrases"
   ]
  },
  {
   "cell_type": "code",
   "execution_count": 15,
   "metadata": {},
   "outputs": [],
   "source": [
    "search_phrases = [\n",
    "    'raise awareness',\n",
    "    'regulatory reform',\n",
    "    'institutional capacity',\n",
    "    'policy reform',\n",
    "    'informal settlement',\n",
    "    'urban',\n",
    "    'peri-urban',\n",
    "    'gender',\n",
    "    'poverty map',\n",
    "    'land governance assessment framework country diagnostics',\n",
    "    'lgaf',\n",
    "    'annual land and poverty conference',\n",
    "    'land market assessment course',\n",
    "    'urbanization review',\n",
    "    'city development strategies',\n",
    "    'city development strategy',\n",
    "    'urbanization review',\n",
    "    'urban research symposium',\n",
    "    'land use planning course',\n",
    "    'land market assessment toolkits',\n",
    "    'tod implementation resources',\n",
    "    'transforming transportation conference',\n",
    "    'tokyo distance learning center',\n",
    "    'tdlc',\n",
    "    'leaders in urban transport planning course',\n",
    "    'land readjustment course',\n",
    "    'approaches to urban slums',\n",
    "    'street addressing',\n",
    "    'street addressing and the management of cities course',\n",
    "    'upgrading urban informal settlements course',\n",
    "    'cadastre law',\n",
    "    'cadaster law',\n",
    "    'cadastre modernization',\n",
    "    'cadaster modernization',\n",
    "    'property rights',\n",
    "    'titling',\n",
    "    'land use',\n",
    "    'land assembly regulation',\n",
    "    'property tax',\n",
    "    'public land management',\n",
    "    'expropriation mechanism',\n",
    "    'land readjustment regulatory framework',\n",
    "    'public-private investment',\n",
    "    'ppp',\n",
    "    'separation and clarity of institutional mandates',\n",
    "    'participatory practice',\n",
    "    'metropolitan',\n",
    "    'peri-urban',\n",
    "    'multi-use cadaster',\n",
    "    'multi-use cadastre',\n",
    "    'multi use cadaster',\n",
    "    'multi use cadastre',\n",
    "    'integrated cadaster',\n",
    "    'integrated cadastre',\n",
    "    'hardware',\n",
    "    'equipment',\n",
    "    'software',\n",
    "    'database',\n",
    "    'management information system',\n",
    "    'geospatial data'\n",
    "    'geographic information system',\n",
    "    'gis',\n",
    "    'innovation',\n",
    "    'innovative technology',\n",
    "    'land allocated for public infrastructure',\n",
    "    'delineation',\n",
    "    'land use',\n",
    "    'regulated land use',\n",
    "    'building code',\n",
    "    'monitoring land use',\n",
    "    'land use monitoring',\n",
    "    'map',\n",
    "    'land use planning',\n",
    "    'ngo',\n",
    "    'cso',\n",
    "    'planning professionals',\n",
    "    'universities',\n",
    "    'university',\n",
    "    'academia',\n",
    "    'spatial planning',\n",
    "    'participatory urban and territorial planning',\n",
    "    'mapping sysytem',\n",
    "    'national planning agencies',\n",
    "    'national planning agency',\n",
    "    'urban plan',\n",
    "    'territorial plan',\n",
    "    'institutional arrangement',\n",
    "    'transit oriented development',\n",
    "    'transport-led land use',\n",
    "    'slum upgrading',\n",
    "    'land readjustment',\n",
    "    'land development',\n",
    "    'upgrade',\n",
    "    'upgrading',\n",
    "    'rehabilitation',\n",
    "    'modernization',\n",
    "    'consolidating',\n",
    "    'consolidate',\n",
    "    'land value',]"
   ]
  },
  {
   "cell_type": "markdown",
   "metadata": {},
   "source": [
    "### Analyze the frequency of search phrases in the PDF file"
   ]
  },
  {
   "cell_type": "code",
   "execution_count": 16,
   "metadata": {},
   "outputs": [],
   "source": [
    "#phrases = ['urban', 'corresponding to']\n",
    "\n",
    "conter = 0\n",
    "dicts = {}\n",
    "\n",
    "for phrase in search_phrases:\n",
    "    if phrase in text:\n",
    "        counter = text.count(phrase)\n",
    "        dicts[phrase] = counter\n",
    "        df = pd.DataFrame(dicts, index = [your_pdf_file_name], columns = search_phrases)"
   ]
  },
  {
   "cell_type": "markdown",
   "metadata": {},
   "source": [
    "### Show the result including null values."
   ]
  },
  {
   "cell_type": "code",
   "execution_count": 17,
   "metadata": {},
   "outputs": [
    {
     "data": {
      "text/html": [
       "<div>\n",
       "<style scoped>\n",
       "    .dataframe tbody tr th:only-of-type {\n",
       "        vertical-align: middle;\n",
       "    }\n",
       "\n",
       "    .dataframe tbody tr th {\n",
       "        vertical-align: top;\n",
       "    }\n",
       "\n",
       "    .dataframe thead th {\n",
       "        text-align: right;\n",
       "    }\n",
       "</style>\n",
       "<table border=\"1\" class=\"dataframe\">\n",
       "  <thead>\n",
       "    <tr style=\"text-align: right;\">\n",
       "      <th></th>\n",
       "      <th>raise awareness</th>\n",
       "      <th>regulatory reform</th>\n",
       "      <th>institutional capacity</th>\n",
       "      <th>policy reform</th>\n",
       "      <th>informal settlement</th>\n",
       "      <th>urban</th>\n",
       "      <th>peri-urban</th>\n",
       "      <th>gender</th>\n",
       "      <th>poverty map</th>\n",
       "      <th>land governance assessment framework country diagnostics</th>\n",
       "      <th>...</th>\n",
       "      <th>slum upgrading</th>\n",
       "      <th>land readjustment</th>\n",
       "      <th>land development</th>\n",
       "      <th>upgrade</th>\n",
       "      <th>upgrading</th>\n",
       "      <th>rehabilitation</th>\n",
       "      <th>modernization</th>\n",
       "      <th>consolidating</th>\n",
       "      <th>consolidate</th>\n",
       "      <th>land value</th>\n",
       "    </tr>\n",
       "  </thead>\n",
       "  <tbody>\n",
       "    <tr>\n",
       "      <th>P050772_ICR.pdf</th>\n",
       "      <td>NaN</td>\n",
       "      <td>NaN</td>\n",
       "      <td>NaN</td>\n",
       "      <td>NaN</td>\n",
       "      <td>NaN</td>\n",
       "      <td>8</td>\n",
       "      <td>4</td>\n",
       "      <td>2</td>\n",
       "      <td>NaN</td>\n",
       "      <td>NaN</td>\n",
       "      <td>...</td>\n",
       "      <td>NaN</td>\n",
       "      <td>NaN</td>\n",
       "      <td>NaN</td>\n",
       "      <td>NaN</td>\n",
       "      <td>1</td>\n",
       "      <td>1</td>\n",
       "      <td>NaN</td>\n",
       "      <td>1</td>\n",
       "      <td>3</td>\n",
       "      <td>NaN</td>\n",
       "    </tr>\n",
       "  </tbody>\n",
       "</table>\n",
       "<p>1 rows × 98 columns</p>\n",
       "</div>"
      ],
      "text/plain": [
       "                raise awareness regulatory reform institutional capacity  \\\n",
       "P050772_ICR.pdf             NaN               NaN                    NaN   \n",
       "\n",
       "                policy reform informal settlement  urban  peri-urban  gender  \\\n",
       "P050772_ICR.pdf           NaN                 NaN      8           4       2   \n",
       "\n",
       "                poverty map  \\\n",
       "P050772_ICR.pdf         NaN   \n",
       "\n",
       "                land governance assessment framework country diagnostics  ...  \\\n",
       "P050772_ICR.pdf                                                NaN        ...   \n",
       "\n",
       "                slum upgrading land readjustment land development upgrade  \\\n",
       "P050772_ICR.pdf            NaN               NaN              NaN     NaN   \n",
       "\n",
       "                upgrading rehabilitation modernization consolidating  \\\n",
       "P050772_ICR.pdf         1              1           NaN             1   \n",
       "\n",
       "                consolidate land value  \n",
       "P050772_ICR.pdf           3        NaN  \n",
       "\n",
       "[1 rows x 98 columns]"
      ]
     },
     "execution_count": 17,
     "metadata": {},
     "output_type": "execute_result"
    }
   ],
   "source": [
    "df"
   ]
  },
  {
   "cell_type": "markdown",
   "metadata": {},
   "source": [
    "### Remove null values and show the results."
   ]
  },
  {
   "cell_type": "code",
   "execution_count": 18,
   "metadata": {},
   "outputs": [
    {
     "data": {
      "text/html": [
       "<div>\n",
       "<style scoped>\n",
       "    .dataframe tbody tr th:only-of-type {\n",
       "        vertical-align: middle;\n",
       "    }\n",
       "\n",
       "    .dataframe tbody tr th {\n",
       "        vertical-align: top;\n",
       "    }\n",
       "\n",
       "    .dataframe thead th {\n",
       "        text-align: right;\n",
       "    }\n",
       "</style>\n",
       "<table border=\"1\" class=\"dataframe\">\n",
       "  <thead>\n",
       "    <tr style=\"text-align: right;\">\n",
       "      <th></th>\n",
       "      <th>urban</th>\n",
       "      <th>peri-urban</th>\n",
       "      <th>gender</th>\n",
       "      <th>peri-urban</th>\n",
       "      <th>equipment</th>\n",
       "      <th>database</th>\n",
       "      <th>management information system</th>\n",
       "      <th>gis</th>\n",
       "      <th>innovation</th>\n",
       "      <th>map</th>\n",
       "      <th>ngo</th>\n",
       "      <th>university</th>\n",
       "      <th>institutional arrangement</th>\n",
       "      <th>upgrading</th>\n",
       "      <th>rehabilitation</th>\n",
       "      <th>consolidating</th>\n",
       "      <th>consolidate</th>\n",
       "    </tr>\n",
       "  </thead>\n",
       "  <tbody>\n",
       "    <tr>\n",
       "      <th>P050772_ICR.pdf</th>\n",
       "      <td>8</td>\n",
       "      <td>4</td>\n",
       "      <td>2</td>\n",
       "      <td>4</td>\n",
       "      <td>7</td>\n",
       "      <td>1</td>\n",
       "      <td>5</td>\n",
       "      <td>11</td>\n",
       "      <td>1</td>\n",
       "      <td>2</td>\n",
       "      <td>9</td>\n",
       "      <td>12</td>\n",
       "      <td>3</td>\n",
       "      <td>1</td>\n",
       "      <td>1</td>\n",
       "      <td>1</td>\n",
       "      <td>3</td>\n",
       "    </tr>\n",
       "  </tbody>\n",
       "</table>\n",
       "</div>"
      ],
      "text/plain": [
       "                 urban  peri-urban  gender  peri-urban  equipment  database  \\\n",
       "P050772_ICR.pdf      8           4       2           4          7         1   \n",
       "\n",
       "                 management information system  gis  innovation  map  ngo  \\\n",
       "P050772_ICR.pdf                              5   11           1    2    9   \n",
       "\n",
       "                 university  institutional arrangement  upgrading  \\\n",
       "P050772_ICR.pdf          12                          3          1   \n",
       "\n",
       "                 rehabilitation  consolidating  consolidate  \n",
       "P050772_ICR.pdf               1              1            3  "
      ]
     },
     "execution_count": 18,
     "metadata": {},
     "output_type": "execute_result"
    }
   ],
   "source": [
    "df_na_dropped = df.dropna(axis=1, how='all')\n",
    "df_na_dropped"
   ]
  },
  {
   "cell_type": "markdown",
   "metadata": {},
   "source": [
    "### Export the result with null values"
   ]
  },
  {
   "cell_type": "code",
   "execution_count": 19,
   "metadata": {},
   "outputs": [],
   "source": [
    "df.to_csv(your_pdf_file_name + '.csv')"
   ]
  },
  {
   "cell_type": "markdown",
   "metadata": {},
   "source": [
    "### Export the result without null values"
   ]
  },
  {
   "cell_type": "code",
   "execution_count": 20,
   "metadata": {},
   "outputs": [],
   "source": [
    "df_na_dropped.to_csv(your_pdf_file_name + '_nonnull.csv')"
   ]
  },
  {
   "cell_type": "markdown",
   "metadata": {},
   "source": [
    "<br><br><br><br>\n",
    "## (Under Construction) Analyzing Multiple PDF files all at once"
   ]
  },
  {
   "cell_type": "code",
   "execution_count": null,
   "metadata": {},
   "outputs": [],
   "source": [
    "pdf_dir = r\"C:\\Users\\wb535782\\Desktop\\PRA\\P050772\"\n",
    "pdf_files = glob.glob(\"%s/*.pdf\" % pdf_dir)\n",
    "pdf_files"
   ]
  },
  {
   "cell_type": "code",
   "execution_count": null,
   "metadata": {},
   "outputs": [],
   "source": [
    "for pdf_file in pdf_files:\n",
    "    \n",
    "    # Open the pdf file\n",
    "    pdfFileObj = open(pdf_file,'rb')\n",
    "    pdfReader = PyPDF2.PdfFileReader(pdfFileObj)\n",
    "\n",
    "    # Discern the number of pages, so that search all the pages.\n",
    "    num_pages = pdfReader.numPages\n",
    "\n",
    "    # Extract text in each page.\n",
    "    count = 0\n",
    "    text = \"\"\n",
    "    \n",
    "    while count < num_pages:\n",
    "        pageObj = pdfReader.getPage(count)\n",
    "        count +=1\n",
    "        text += pageObj.extractText()\n",
    "\n",
    "    # the condictional statement provides either the computer written document if its yes or the OCR scanned document if its no.\n",
    "    if text != \"\":\n",
    "        text = text\n",
    "    else:\n",
    "        text = textract.process(pdf_file, method='tesseract', language='eng')\n",
    "\n",
    "    # Clean text by removing new page, tab, double white space.\n",
    "    text = text.replace('\\n','').replace('\\t', '').lower()\n",
    "    text = \" \".join(text.split())\n",
    "\n",
    "    dicti = {pdf_file: text}\n",
    "\n",
    "    #lst = []\n",
    "    #pdf_dicts = {}\n",
    "    \n",
    "    #for file_text in text:\n",
    "        #pdf_dicts[pdf_file] = file_text"
   ]
  },
  {
   "cell_type": "code",
   "execution_count": null,
   "metadata": {},
   "outputs": [],
   "source": [
    "df2 = pd.DataFrame.from_dict(dicti,  orient = 'index', columns = ['text'])\n",
    "df2"
   ]
  },
  {
   "cell_type": "code",
   "execution_count": null,
   "metadata": {},
   "outputs": [],
   "source": [
    "df2.to_csv('test.csv')"
   ]
  },
  {
   "cell_type": "code",
   "execution_count": null,
   "metadata": {},
   "outputs": [],
   "source": []
  }
 ],
 "metadata": {
  "kernelspec": {
   "display_name": "text_analytics",
   "language": "python",
   "name": "text_analytics"
  },
  "language_info": {
   "codemirror_mode": {
    "name": "ipython",
    "version": 3
   },
   "file_extension": ".py",
   "mimetype": "text/x-python",
   "name": "python",
   "nbconvert_exporter": "python",
   "pygments_lexer": "ipython3",
   "version": "3.7.3"
  }
 },
 "nbformat": 4,
 "nbformat_minor": 2
}
