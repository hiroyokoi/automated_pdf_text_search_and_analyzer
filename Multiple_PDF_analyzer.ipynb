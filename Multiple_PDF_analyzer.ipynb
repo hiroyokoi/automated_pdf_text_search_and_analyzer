{
 "cells": [
  {
   "cell_type": "markdown",
   "metadata": {},
   "source": [
    "# Automated PDF Text Search and Analyzer (For Multiple PDF Files)\n",
    "Prepared by Hiro Yokoi, July 15, 2019<br><br>\n",
    "This is the bulk PDF analyzer to ease **text search** for **Portfolio Review and Analysis (PRA)** for managing urban spatial growth.\n",
    "\n",
    "**What you have to do**\n",
    "- All you have to do is to (1) input your UPI and (2) store all the PDFs in a folder on your desktop.\n",
    "- If you want to change the search text, you can change the String part like `String = ['aaa', 'bbb', 'ccc', 'ddd']`. Be sure to type the **lower case** character. Text search is case sensitive."
   ]
  },
  {
   "cell_type": "markdown",
   "metadata": {},
   "source": [
    "### Import packages\n"
   ]
  },
  {
   "cell_type": "code",
   "execution_count": 2,
   "metadata": {},
   "outputs": [],
   "source": [
    "import pandas as pd\n",
    "import numpy as np\n",
    "import matplotlib.pyplot as plt\n",
    "import PyPDF2, textract, re, os\n",
    "from matplotlib.ticker import MaxNLocator\n",
    "import glob\n",
    "%matplotlib inline\n",
    "#from textblob import TextBlob\n",
    "#from nltk.tokenize import word_tokenize\n",
    "#from nltk.corpus import stopwords\n",
    "#import nltk\n",
    "#nltk.download('punkt')"
   ]
  },
  {
   "cell_type": "markdown",
   "metadata": {},
   "source": [
    "<div class=\"alert alert-block alert-info\">\n",
    "<b>Note:</b>\n",
    "    <br>When you install <b>textract</b> on your Windows computer, it will return an error. You need to execute following steps.<br>\n",
    "- <b>1.</b> you need to install Microsoft Visual Studio C++ Compiler for Python. You need to download and install <b>Visual Studio Community</b> at https://visualstudio.microsoft.com/downloads/#build-tools-for-visual-studio-2017.<br>\n",
    "- <b>2.</b> run following command line: <b>python -m pip install --upgrade pip setuptools wheel</b><br>\n",
    "- <b>3.</b> run follwoing command line: <b>pip install six --upgrade</b><br>\n",
    "- <b>4.</b> download EbookLib version 0.15 because textract has dependence on EbookLib version 0.15.After downloading the zip file at <b>https://github.com/aerkalov/ebooklib/releases</b>, unzipping it, and <b>manually revove the unicode character in the README.md file.</b><br>(unicode char is on <b>Line 44</b>. You can edit the file with text editter like notepad or Atom)<br>\n",
    "- <b>5.</b> run following command line: <b>conda install swig</b><br>\n",
    "- <b>6.</b> change the working directory to the unzipped Ebooklib folder: e.g. <b>cd C:\\Users\\username\\Desktop\\ebooklib-0.15</b><br>\n",
    "- <b>7.</b> run the command to install EbookLib : <b>pip install .</b><br>\n",
    "- <b>8.</b> run the textract installation : <b>pip install textract</b><br>\n",
    "(Reference: https://stackoverflow.com/questions/50743723/cant-install-textract-on-windows)\n",
    "</div>"
   ]
  },
  {
   "cell_type": "markdown",
   "metadata": {},
   "source": [
    "### Your Manual Input\n",
    "#### VERY IMPORTANT! Before runnning a command, manually create a blank folder on your desktop, change the name of the folder to \"PDF\", locate your PDF files in the folder."
   ]
  },
  {
   "cell_type": "markdown",
   "metadata": {},
   "source": [
    "Type your UPI, then hit Enter."
   ]
  },
  {
   "cell_type": "code",
   "execution_count": 3,
   "metadata": {},
   "outputs": [
    {
     "name": "stdout",
     "output_type": "stream",
     "text": [
      "Please type your UPI number: 535782\n"
     ]
    }
   ],
   "source": [
    "UPI = input('Please type your UPI number: ')"
   ]
  },
  {
   "cell_type": "markdown",
   "metadata": {},
   "source": [
    "Make sure your folder path and file name is correct."
   ]
  },
  {
   "cell_type": "code",
   "execution_count": 4,
   "metadata": {},
   "outputs": [
    {
     "name": "stdout",
     "output_type": "stream",
     "text": [
      "Your folder path is: C:\\Users\\wb535782\\Desktop\\PRA\\PDF\n",
      "Printing the file path of the first 5 files ['C:\\\\Users\\\\wb535782\\\\Desktop\\\\PRA\\\\PDF\\\\P006449_ICR.pdf', 'C:\\\\Users\\\\wb535782\\\\Desktop\\\\PRA\\\\PDF\\\\P006449_ICRR.pdf', 'C:\\\\Users\\\\wb535782\\\\Desktop\\\\PRA\\\\PDF\\\\P006449_PAD.pdf', 'C:\\\\Users\\\\wb535782\\\\Desktop\\\\PRA\\\\PDF\\\\P006572_PAD.pdf', 'C:\\\\Users\\\\wb535782\\\\Desktop\\\\PRA\\\\PDF\\\\P039199_ICR.pdf']\n"
     ]
    }
   ],
   "source": [
    "pdf_dir = r'C:\\Users\\wb' + str(UPI) + '\\Desktop\\PRA\\PDF'\n",
    "pdf_files = glob.glob(\"%s/*.pdf\" % pdf_dir)\n",
    "print('Your folder path is:', pdf_dir)\n",
    "print('Printing the file path of the first 5 files',pdf_files[:5])"
   ]
  },
  {
   "cell_type": "markdown",
   "metadata": {},
   "source": [
    "The cell below is a backup when the above does not work."
   ]
  },
  {
   "cell_type": "code",
   "execution_count": 5,
   "metadata": {},
   "outputs": [],
   "source": [
    "#pdf_dir = r\"C:\\Users\\wb535782\\Desktop\\PRA\\PDF\"\n",
    "#pdf_files = glob.glob(\"%s/*.pdf\" % pdf_dir)\n",
    "#print('Printing the file path of the first 5 files',pdf_files[:5])"
   ]
  },
  {
   "cell_type": "markdown",
   "metadata": {},
   "source": [
    "### Extract text from all the PDF files"
   ]
  },
  {
   "cell_type": "code",
   "execution_count": 6,
   "metadata": {},
   "outputs": [
    {
     "name": "stderr",
     "output_type": "stream",
     "text": [
      "PdfReadWarning: Xref table not zero-indexed. ID numbers for objects will be corrected. [pdf.py:1736]\n"
     ]
    },
    {
     "data": {
      "text/html": [
       "<div>\n",
       "<style scoped>\n",
       "    .dataframe tbody tr th:only-of-type {\n",
       "        vertical-align: middle;\n",
       "    }\n",
       "\n",
       "    .dataframe tbody tr th {\n",
       "        vertical-align: top;\n",
       "    }\n",
       "\n",
       "    .dataframe thead th {\n",
       "        text-align: right;\n",
       "    }\n",
       "</style>\n",
       "<table border=\"1\" class=\"dataframe\">\n",
       "  <thead>\n",
       "    <tr style=\"text-align: right;\">\n",
       "      <th></th>\n",
       "      <th>file_name</th>\n",
       "      <th>text_cap</th>\n",
       "      <th>text_lower</th>\n",
       "    </tr>\n",
       "  </thead>\n",
       "  <tbody>\n",
       "    <tr>\n",
       "      <th>0</th>\n",
       "      <td>C:\\Users\\wb535782\\Desktop\\PRA\\PDF\\P006449_ICR.pdf</td>\n",
       "      <td>Document of The World Bank Report No: ICR1973 ...</td>\n",
       "      <td>document of the world bank report no: icr1973 ...</td>\n",
       "    </tr>\n",
       "    <tr>\n",
       "      <th>1</th>\n",
       "      <td>C:\\Users\\wb535782\\Desktop\\PRA\\PDF\\P006449_ICRR...</td>\n",
       "      <td>ICR Review1. Project Data: ˚˜ ˝˚˚˜˘˘(----./0,....</td>\n",
       "      <td>icr review1. project data: ˚˜ ˝˚˚˜˘˘(----./0,....</td>\n",
       "    </tr>\n",
       "    <tr>\n",
       "      <th>2</th>\n",
       "      <td>C:\\Users\\wb535782\\Desktop\\PRA\\PDF\\P006449_PAD.pdf</td>\n",
       "      <td>Document ofThe World BankReport No: 19873-BRPR...</td>\n",
       "      <td>document ofthe world bankreport no: 19873-brpr...</td>\n",
       "    </tr>\n",
       "    <tr>\n",
       "      <th>3</th>\n",
       "      <td>C:\\Users\\wb535782\\Desktop\\PRA\\PDF\\P006572_PAD.pdf</td>\n",
       "      <td>Document ofThe World BankReport No: 23514PROJE...</td>\n",
       "      <td>document ofthe world bankreport no: 23514proje...</td>\n",
       "    </tr>\n",
       "    <tr>\n",
       "      <th>4</th>\n",
       "      <td>C:\\Users\\wb535782\\Desktop\\PRA\\PDF\\P039199_ICR.pdf</td>\n",
       "      <td>i Document of The World Bank Report No: ICR000...</td>\n",
       "      <td>i document of the world bank report no: icr000...</td>\n",
       "    </tr>\n",
       "  </tbody>\n",
       "</table>\n",
       "</div>"
      ],
      "text/plain": [
       "                                           file_name  \\\n",
       "0  C:\\Users\\wb535782\\Desktop\\PRA\\PDF\\P006449_ICR.pdf   \n",
       "1  C:\\Users\\wb535782\\Desktop\\PRA\\PDF\\P006449_ICRR...   \n",
       "2  C:\\Users\\wb535782\\Desktop\\PRA\\PDF\\P006449_PAD.pdf   \n",
       "3  C:\\Users\\wb535782\\Desktop\\PRA\\PDF\\P006572_PAD.pdf   \n",
       "4  C:\\Users\\wb535782\\Desktop\\PRA\\PDF\\P039199_ICR.pdf   \n",
       "\n",
       "                                            text_cap  \\\n",
       "0  Document of The World Bank Report No: ICR1973 ...   \n",
       "1  ICR Review1. Project Data: ˚˜ ˝˚˚˜˘˘(----./0,....   \n",
       "2  Document ofThe World BankReport No: 19873-BRPR...   \n",
       "3  Document ofThe World BankReport No: 23514PROJE...   \n",
       "4  i Document of The World Bank Report No: ICR000...   \n",
       "\n",
       "                                          text_lower  \n",
       "0  document of the world bank report no: icr1973 ...  \n",
       "1  icr review1. project data: ˚˜ ˝˚˚˜˘˘(----./0,....  \n",
       "2  document ofthe world bankreport no: 19873-brpr...  \n",
       "3  document ofthe world bankreport no: 23514proje...  \n",
       "4  i document of the world bank report no: icr000...  "
      ]
     },
     "execution_count": 6,
     "metadata": {},
     "output_type": "execute_result"
    }
   ],
   "source": [
    "lst_cap, lst_low, lst_file = [], [], []\n",
    "\n",
    "for pdf_file in pdf_files:\n",
    "    \n",
    "    # Open the pdf file\n",
    "    pdfFileObj = open(pdf_file,'rb')\n",
    "    pdfReader = PyPDF2.PdfFileReader(pdfFileObj)\n",
    "\n",
    "    # Discern the number of pages, so that search all the pages.\n",
    "    num_pages = pdfReader.numPages\n",
    "\n",
    "    # Extract text in each page.\n",
    "    count = 0\n",
    "    text = \"\"\n",
    "    \n",
    "    while count < num_pages:\n",
    "        pageObj = pdfReader.getPage(count)\n",
    "        count +=1\n",
    "        text += pageObj.extractText()\n",
    "\n",
    "    # the condictional statement provides either the computer written document if its yes or the OCR scanned document if its no.\n",
    "    if text != \"\":\n",
    "        text = text\n",
    "    else:\n",
    "        text = textract.process(pdf_file, method='tesseract', language='eng')\n",
    "\n",
    "    # Clean text by removing new page, tab, double white space.\n",
    "    text = text.replace('\\n','').replace('\\t', '')\n",
    "    text = \" \".join(text.split())\n",
    "    lst_cap.append(text)\n",
    "    \n",
    "    # make a list of lower case text\n",
    "    text_lower = text.lower()\n",
    "    lst_low.append(text_lower)\n",
    "    \n",
    "    # make a list of files\n",
    "    lst_file.append(pdf_file)\n",
    "\n",
    "# Develop dataframe\n",
    "multi_file_df = pd.DataFrame({'file_name':lst_file, 'text_cap':lst_cap, 'text_lower':lst_low})\n",
    "multi_file_df.head()"
   ]
  },
  {
   "cell_type": "markdown",
   "metadata": {},
   "source": [
    "### Define search phrases"
   ]
  },
  {
   "cell_type": "code",
   "execution_count": 7,
   "metadata": {},
   "outputs": [],
   "source": [
    "search_phrases = [\n",
    "    'raise awareness',\n",
    "    'regulatory reform',\n",
    "    'institutional capacity',\n",
    "    'policy reform',\n",
    "    'informal settlement',\n",
    "    'urban',\n",
    "    'peri-urban',\n",
    "    'municipal',\n",
    "    'gender',\n",
    "    'poverty map',\n",
    "    'land governance assessment framework',\n",
    "    'country diagnostics',\n",
    "    'annual land and poverty conference',\n",
    "    'land market assessment course',\n",
    "    'urbanization review',\n",
    "    'city development strategies',\n",
    "    'city development strategy',\n",
    "    'urbanization review',\n",
    "    'urban research symposium',\n",
    "    'land use planning course',\n",
    "    'land market assessment toolkits',\n",
    "    'tod implementation resources',\n",
    "    'transforming transportation conference',\n",
    "    'tokyo distance learning center',\n",
    "    'leaders in urban transport planning course',\n",
    "    'land readjustment course',\n",
    "    'approaches to urban slums',\n",
    "    'street addressing',\n",
    "    'street addressing and the management of cities course',\n",
    "    'upgrading urban informal settlements course',\n",
    "    'cadastre law',\n",
    "    'cadaster law',\n",
    "    'cadastre modernization',\n",
    "    'cadaster modernization',\n",
    "    'cadaster',\n",
    "    'cadastre',\n",
    "    'property rights',\n",
    "    'titling',\n",
    "    'land use',\n",
    "    'land acquisition',\n",
    "    'land assembly regulation',\n",
    "    'property tax',\n",
    "    'public land management',\n",
    "    'expropriation mechanism',\n",
    "    'land readjustment regulatory framework',\n",
    "    'public-private investment',\n",
    "    'separation and clarity of institutional mandates',\n",
    "    'participatory practice',\n",
    "    'metropolitan',\n",
    "    'multi-use cadaster',\n",
    "    'multi-use cadastre',\n",
    "    'multi use cadaster',\n",
    "    'multi use cadastre',\n",
    "    'integrated cadaster',\n",
    "    'integrated cadastre',\n",
    "    'hardware',\n",
    "    'equipment',\n",
    "    'software',\n",
    "    'database',\n",
    "    'management information system',\n",
    "    'geospatial data',\n",
    "    'geospatial',\n",
    "    'geographic information system',\n",
    "    'innovation',\n",
    "    'innovative technology',\n",
    "    'land allocated for public infrastructure',\n",
    "    'delineation',\n",
    "    'regulated land use',\n",
    "    'building code',\n",
    "    'monitoring land use',\n",
    "    'land use monitoring',\n",
    "    'map',\n",
    "    'land use planning',\n",
    "    'planning professionals',\n",
    "    'universities',\n",
    "    'university',\n",
    "    'academia',\n",
    "    'spatial planning',\n",
    "    'spatial',\n",
    "    'satellite',\n",
    "    'participatory urban and territorial planning',\n",
    "    'mapping sysytem',\n",
    "    'national planning agencies',\n",
    "    'national planning agency',\n",
    "    'urban plan',\n",
    "    'territorial plan',\n",
    "    'institutional arrangement',\n",
    "    'transit oriented development',\n",
    "    'transport-led land use',\n",
    "    'highway',\n",
    "    'road',\n",
    "    'slum upgrading',\n",
    "    'slum',\n",
    "    'land readjustment',\n",
    "    'land development',\n",
    "    'upgrade',\n",
    "    'upgrading',\n",
    "    'rehabilitation',\n",
    "    'modernization',\n",
    "    'consolidating',\n",
    "    'consolidate',\n",
    "    'land value',\n",
    "    'land value capture']\n",
    "\n",
    "search_phrases_capital = [\n",
    "    'GIS',\n",
    "    'LGAF',\n",
    "    'TDLC',\n",
    "    'NGO',\n",
    "    'CSO',\n",
    "    'PPP',\n",
    "    'TOD',\n",
    "    'LVC'\n",
    "]"
   ]
  },
  {
   "cell_type": "markdown",
   "metadata": {},
   "source": [
    "### Search keywords in each PDF file"
   ]
  },
  {
   "cell_type": "markdown",
   "metadata": {},
   "source": [
    "Define a function to extract keywords."
   ]
  },
  {
   "cell_type": "code",
   "execution_count": 8,
   "metadata": {},
   "outputs": [],
   "source": [
    "def phrase_search(filename, text_capital, text_lowered):\n",
    "    \n",
    "    # Search capital sensitive texts.\n",
    "    counter_cap = 0\n",
    "    dicts_cap = {}\n",
    "\n",
    "    for phrase in search_phrases_capital:\n",
    "        if phrase in text_capital:\n",
    "            counter_cap = text_capital.count(phrase)\n",
    "            dicts_cap[phrase] = counter_cap\n",
    "        \n",
    "    # Search small capital texts.\n",
    "    counter_sc = 0\n",
    "    dicts_sc = {}\n",
    "\n",
    "    for phrase in search_phrases:\n",
    "        if phrase in text_lowered:\n",
    "            counter_sc = text_lowered.count(phrase)\n",
    "            dicts_sc[phrase] = counter_sc\n",
    "\n",
    "    # Merge two search results into one dictionary\n",
    "    def merge_dict(dict1, dict2): \n",
    "        res = {**dict1, **dict2} \n",
    "        return res\n",
    "    dict_both = merge_dict(dicts_cap, dicts_sc)\n",
    "    \n",
    "    return dict_both"
   ]
  },
  {
   "cell_type": "markdown",
   "metadata": {},
   "source": [
    "Apply the above function to each file."
   ]
  },
  {
   "cell_type": "code",
   "execution_count": 9,
   "metadata": {},
   "outputs": [
    {
     "data": {
      "text/html": [
       "<div>\n",
       "<style scoped>\n",
       "    .dataframe tbody tr th:only-of-type {\n",
       "        vertical-align: middle;\n",
       "    }\n",
       "\n",
       "    .dataframe tbody tr th {\n",
       "        vertical-align: top;\n",
       "    }\n",
       "\n",
       "    .dataframe thead th {\n",
       "        text-align: right;\n",
       "    }\n",
       "</style>\n",
       "<table border=\"1\" class=\"dataframe\">\n",
       "  <thead>\n",
       "    <tr style=\"text-align: right;\">\n",
       "      <th></th>\n",
       "      <th>file_name</th>\n",
       "      <th>keywords</th>\n",
       "    </tr>\n",
       "  </thead>\n",
       "  <tbody>\n",
       "    <tr>\n",
       "      <th>0</th>\n",
       "      <td>C:\\Users\\wb535782\\Desktop\\PRA\\PDF\\P006449_ICR.pdf</td>\n",
       "      <td>{'NGO': 1, 'institutional capacity': 1, 'polic...</td>\n",
       "    </tr>\n",
       "    <tr>\n",
       "      <th>1</th>\n",
       "      <td>C:\\Users\\wb535782\\Desktop\\PRA\\PDF\\P006449_ICRR...</td>\n",
       "      <td>{}</td>\n",
       "    </tr>\n",
       "    <tr>\n",
       "      <th>2</th>\n",
       "      <td>C:\\Users\\wb535782\\Desktop\\PRA\\PDF\\P006449_PAD.pdf</td>\n",
       "      <td>{'NGO': 6, 'urban': 22, 'land use': 5, 'metrop...</td>\n",
       "    </tr>\n",
       "    <tr>\n",
       "      <th>3</th>\n",
       "      <td>C:\\Users\\wb535782\\Desktop\\PRA\\PDF\\P006572_PAD.pdf</td>\n",
       "      <td>{'GIS': 1, 'NGO': 47, 'regulatory reform': 1, ...</td>\n",
       "    </tr>\n",
       "    <tr>\n",
       "      <th>4</th>\n",
       "      <td>C:\\Users\\wb535782\\Desktop\\PRA\\PDF\\P039199_ICR.pdf</td>\n",
       "      <td>{'NGO': 5, 'raise awareness': 2, 'regulatory r...</td>\n",
       "    </tr>\n",
       "  </tbody>\n",
       "</table>\n",
       "</div>"
      ],
      "text/plain": [
       "                                           file_name  \\\n",
       "0  C:\\Users\\wb535782\\Desktop\\PRA\\PDF\\P006449_ICR.pdf   \n",
       "1  C:\\Users\\wb535782\\Desktop\\PRA\\PDF\\P006449_ICRR...   \n",
       "2  C:\\Users\\wb535782\\Desktop\\PRA\\PDF\\P006449_PAD.pdf   \n",
       "3  C:\\Users\\wb535782\\Desktop\\PRA\\PDF\\P006572_PAD.pdf   \n",
       "4  C:\\Users\\wb535782\\Desktop\\PRA\\PDF\\P039199_ICR.pdf   \n",
       "\n",
       "                                            keywords  \n",
       "0  {'NGO': 1, 'institutional capacity': 1, 'polic...  \n",
       "1                                                 {}  \n",
       "2  {'NGO': 6, 'urban': 22, 'land use': 5, 'metrop...  \n",
       "3  {'GIS': 1, 'NGO': 47, 'regulatory reform': 1, ...  \n",
       "4  {'NGO': 5, 'raise awareness': 2, 'regulatory r...  "
      ]
     },
     "execution_count": 9,
     "metadata": {},
     "output_type": "execute_result"
    }
   ],
   "source": [
    "# Apply the above function to multi_file_df\n",
    "new_text = multi_file_df.apply(lambda row: phrase_search(row['file_name'], row['text_cap'], row['text_lower']), axis = 1)\n",
    "\n",
    "# Create dataframe of new_text\n",
    "new_text_df = pd.DataFrame(new_text, columns = ['keywords'])\n",
    "\n",
    "# merge multi_file_df and new_text_df\n",
    "merged = pd.merge(multi_file_df['file_name'], new_text_df, left_index=True, right_index=True)\n",
    "merged.head()"
   ]
  },
  {
   "cell_type": "markdown",
   "metadata": {},
   "source": [
    "Spliting merged dataframe by fine_name and keywords"
   ]
  },
  {
   "cell_type": "code",
   "execution_count": 10,
   "metadata": {},
   "outputs": [
    {
     "name": "stdout",
     "output_type": "stream",
     "text": [
      "Number of Row and Column is (436, 4).\n"
     ]
    },
    {
     "data": {
      "text/html": [
       "<div>\n",
       "<style scoped>\n",
       "    .dataframe tbody tr th:only-of-type {\n",
       "        vertical-align: middle;\n",
       "    }\n",
       "\n",
       "    .dataframe tbody tr th {\n",
       "        vertical-align: top;\n",
       "    }\n",
       "\n",
       "    .dataframe thead th {\n",
       "        text-align: right;\n",
       "    }\n",
       "</style>\n",
       "<table border=\"1\" class=\"dataframe\">\n",
       "  <thead>\n",
       "    <tr style=\"text-align: right;\">\n",
       "      <th></th>\n",
       "      <th>index</th>\n",
       "      <th>file</th>\n",
       "      <th>keys</th>\n",
       "      <th>values</th>\n",
       "    </tr>\n",
       "  </thead>\n",
       "  <tbody>\n",
       "    <tr>\n",
       "      <th>0</th>\n",
       "      <td>0</td>\n",
       "      <td>C:\\Users\\wb535782\\Desktop\\PRA\\PDF\\P006449_ICR.pdf</td>\n",
       "      <td>NGO</td>\n",
       "      <td>1</td>\n",
       "    </tr>\n",
       "    <tr>\n",
       "      <th>1</th>\n",
       "      <td>0</td>\n",
       "      <td>C:\\Users\\wb535782\\Desktop\\PRA\\PDF\\P006449_ICR.pdf</td>\n",
       "      <td>institutional capacity</td>\n",
       "      <td>1</td>\n",
       "    </tr>\n",
       "    <tr>\n",
       "      <th>2</th>\n",
       "      <td>0</td>\n",
       "      <td>C:\\Users\\wb535782\\Desktop\\PRA\\PDF\\P006449_ICR.pdf</td>\n",
       "      <td>policy reform</td>\n",
       "      <td>1</td>\n",
       "    </tr>\n",
       "    <tr>\n",
       "      <th>3</th>\n",
       "      <td>0</td>\n",
       "      <td>C:\\Users\\wb535782\\Desktop\\PRA\\PDF\\P006449_ICR.pdf</td>\n",
       "      <td>urban</td>\n",
       "      <td>28</td>\n",
       "    </tr>\n",
       "    <tr>\n",
       "      <th>4</th>\n",
       "      <td>0</td>\n",
       "      <td>C:\\Users\\wb535782\\Desktop\\PRA\\PDF\\P006449_ICR.pdf</td>\n",
       "      <td>titling</td>\n",
       "      <td>4</td>\n",
       "    </tr>\n",
       "  </tbody>\n",
       "</table>\n",
       "</div>"
      ],
      "text/plain": [
       "   index                                               file  \\\n",
       "0      0  C:\\Users\\wb535782\\Desktop\\PRA\\PDF\\P006449_ICR.pdf   \n",
       "1      0  C:\\Users\\wb535782\\Desktop\\PRA\\PDF\\P006449_ICR.pdf   \n",
       "2      0  C:\\Users\\wb535782\\Desktop\\PRA\\PDF\\P006449_ICR.pdf   \n",
       "3      0  C:\\Users\\wb535782\\Desktop\\PRA\\PDF\\P006449_ICR.pdf   \n",
       "4      0  C:\\Users\\wb535782\\Desktop\\PRA\\PDF\\P006449_ICR.pdf   \n",
       "\n",
       "                     keys  values  \n",
       "0                     NGO       1  \n",
       "1  institutional capacity       1  \n",
       "2           policy reform       1  \n",
       "3                   urban      28  \n",
       "4                 titling       4  "
      ]
     },
     "execution_count": 10,
     "metadata": {},
     "output_type": "execute_result"
    }
   ],
   "source": [
    "# Split the keys and values\n",
    "key_bag, value_bag, id_bag = [], [], []\n",
    "for index, row in merged.iterrows():\n",
    "    value_bag.append(row['keywords'].values())\n",
    "    key_bag.append(row['keywords'].keys())\n",
    "    id_bag.append(row['file_name'])\n",
    "\n",
    "temp_df = pd.DataFrame({'file':id_bag, 'keys':key_bag, 'values':value_bag})\n",
    "\n",
    "# Then, splitting the dataframe\n",
    "row_bag_key, id_bag_key = [], []\n",
    "row_bag_value, id_bag_value = [], []\n",
    "for index, row in temp_df.iterrows():\n",
    "    bag_of_keys = row['keys']\n",
    "    bag_of_value = row['values']\n",
    "    for individual_key in bag_of_keys:\n",
    "        row_bag_key.append(row)\n",
    "        id_bag_key.append(individual_key)\n",
    "    for individual_value in bag_of_value:\n",
    "        row_bag_value.append(row)\n",
    "        id_bag_value.append(individual_value)\n",
    "tidied_df = pd.DataFrame(row_bag_key)\n",
    "tidied_df['keys'] = id_bag_key\n",
    "tidied_df['values'] = id_bag_value\n",
    "tidied_df = tidied_df.reset_index()\n",
    "print('Number of Row and Column is {}.'.format(tidied_df.shape))\n",
    "tidied_df.head()"
   ]
  },
  {
   "cell_type": "markdown",
   "metadata": {},
   "source": [
    "### Term Frequency Analysis"
   ]
  },
  {
   "cell_type": "code",
   "execution_count": 11,
   "metadata": {},
   "outputs": [
    {
     "data": {
      "text/html": [
       "<div>\n",
       "<style scoped>\n",
       "    .dataframe tbody tr th:only-of-type {\n",
       "        vertical-align: middle;\n",
       "    }\n",
       "\n",
       "    .dataframe tbody tr th {\n",
       "        vertical-align: top;\n",
       "    }\n",
       "\n",
       "    .dataframe thead th {\n",
       "        text-align: right;\n",
       "    }\n",
       "</style>\n",
       "<table border=\"1\" class=\"dataframe\">\n",
       "  <thead>\n",
       "    <tr style=\"text-align: right;\">\n",
       "      <th></th>\n",
       "      <th>keys</th>\n",
       "      <th>values</th>\n",
       "    </tr>\n",
       "  </thead>\n",
       "  <tbody>\n",
       "    <tr>\n",
       "      <th>0</th>\n",
       "      <td>urban</td>\n",
       "      <td>803</td>\n",
       "    </tr>\n",
       "    <tr>\n",
       "      <th>1</th>\n",
       "      <td>road</td>\n",
       "      <td>689</td>\n",
       "    </tr>\n",
       "    <tr>\n",
       "      <th>2</th>\n",
       "      <td>equipment</td>\n",
       "      <td>309</td>\n",
       "    </tr>\n",
       "    <tr>\n",
       "      <th>3</th>\n",
       "      <td>highway</td>\n",
       "      <td>308</td>\n",
       "    </tr>\n",
       "    <tr>\n",
       "      <th>4</th>\n",
       "      <td>rehabilitation</td>\n",
       "      <td>274</td>\n",
       "    </tr>\n",
       "  </tbody>\n",
       "</table>\n",
       "</div>"
      ],
      "text/plain": [
       "             keys  values\n",
       "0           urban     803\n",
       "1            road     689\n",
       "2       equipment     309\n",
       "3         highway     308\n",
       "4  rehabilitation     274"
      ]
     },
     "execution_count": 11,
     "metadata": {},
     "output_type": "execute_result"
    }
   ],
   "source": [
    "keys_grouped = tidied_df.groupby('keys').agg({'values':'sum'}).sort_values(by = 'values', ascending = False).reset_index()\n",
    "keys_grouped.head()"
   ]
  },
  {
   "cell_type": "code",
   "execution_count": 12,
   "metadata": {},
   "outputs": [
    {
     "data": {
      "image/png": "[encoded data removed]",
      "text/plain": [
       "<Figure size 1080x1080 with 1 Axes>"
      ]
     },
     "metadata": {
      "needs_background": "light"
     },
     "output_type": "display_data"
    }
   ],
   "source": [
    "# Make bar plot\n",
    "ax = keys_grouped.sort_values(by = 'values', ascending = True).plot.barh(figsize = [15,15], x = 'keys', y = 'values', color = '#62FD08', legend = False)\n",
    "plt.xlabel('Frequency', fontsize = 16)\n",
    "plt.ylabel('Search Keywords', fontsize = 16)\n",
    "plt.title('Overall Term Frequency', fontsize = 20)\n",
    "ax.xaxis.set_major_locator(MaxNLocator(integer = True))"
   ]
  },
  {
   "cell_type": "markdown",
   "metadata": {},
   "source": [
    "### Time Series Analysis"
   ]
  },
  {
   "cell_type": "code",
   "execution_count": 13,
   "metadata": {},
   "outputs": [],
   "source": [
    "# Backup for my personal use\n",
    "csv_path = r'C:\\Users\\wb535782\\Desktop\\PRA'\n",
    "csv_file_name = r'Case Study Countries Portfolio FY00-18 sent to team 6-25-19.csv'\n",
    "csv_path = os.path.join(csv_path, csv_file_name)"
   ]
  },
  {
   "cell_type": "code",
   "execution_count": 14,
   "metadata": {},
   "outputs": [
    {
     "data": {
      "text/html": [
       "<div>\n",
       "<style scoped>\n",
       "    .dataframe tbody tr th:only-of-type {\n",
       "        vertical-align: middle;\n",
       "    }\n",
       "\n",
       "    .dataframe tbody tr th {\n",
       "        vertical-align: top;\n",
       "    }\n",
       "\n",
       "    .dataframe thead th {\n",
       "        text-align: right;\n",
       "    }\n",
       "</style>\n",
       "<table border=\"1\" class=\"dataframe\">\n",
       "  <thead>\n",
       "    <tr style=\"text-align: right;\">\n",
       "      <th></th>\n",
       "      <th>Proj ID</th>\n",
       "      <th>Proj Name</th>\n",
       "      <th>Fiscal year</th>\n",
       "      <th>Exit FY</th>\n",
       "      <th>Country</th>\n",
       "      <th>Region</th>\n",
       "      <th>Practice</th>\n",
       "      <th>Prod Line</th>\n",
       "      <th>Project Status</th>\n",
       "      <th>AF</th>\n",
       "      <th>Par Proj ID</th>\n",
       "      <th>IBRD+IDA+Grant Amt</th>\n",
       "      <th>Abstract</th>\n",
       "      <th>PAD URL</th>\n",
       "      <th>ICR URL</th>\n",
       "      <th>ICRR_PPAR URL</th>\n",
       "      <th>Eval Type</th>\n",
       "      <th>Eval FY</th>\n",
       "      <th>IEG Outcome Rating</th>\n",
       "      <th>Reviewer</th>\n",
       "    </tr>\n",
       "  </thead>\n",
       "  <tbody>\n",
       "    <tr>\n",
       "      <th>0</th>\n",
       "      <td>P077533</td>\n",
       "      <td>Emergency Community Empowerment Project</td>\n",
       "      <td>2002-01-01</td>\n",
       "      <td>2005</td>\n",
       "      <td>Afghanistan</td>\n",
       "      <td>SAR</td>\n",
       "      <td>Soc. Urb. Rur.&amp; GP</td>\n",
       "      <td>IBRD/IDA</td>\n",
       "      <td>Closed</td>\n",
       "      <td>#</td>\n",
       "      <td>#</td>\n",
       "      <td>42</td>\n",
       "      <td>The Emergency Community Empowerment and Public...</td>\n",
       "      <td>http://imagebank.worldbank.org/servlet/WDSCont...</td>\n",
       "      <td>http://imagebank.worldbank.org/servlet/WDSCont...</td>\n",
       "      <td>http://imagebank.worldbank.org/servlet/WDSCont...</td>\n",
       "      <td>ES</td>\n",
       "      <td>2006.0</td>\n",
       "      <td>SATISFACTORY</td>\n",
       "      <td>TK</td>\n",
       "    </tr>\n",
       "    <tr>\n",
       "      <th>1</th>\n",
       "      <td>P077779</td>\n",
       "      <td>Emergency Infrastructure Reconstruction</td>\n",
       "      <td>2002-01-01</td>\n",
       "      <td>2006</td>\n",
       "      <td>Afghanistan</td>\n",
       "      <td>SAR</td>\n",
       "      <td>Water</td>\n",
       "      <td>IBRD/IDA</td>\n",
       "      <td>Closed</td>\n",
       "      <td>#</td>\n",
       "      <td>#</td>\n",
       "      <td>33</td>\n",
       "      <td>The objective of the Emergency Infrastructure ...</td>\n",
       "      <td>http://imagebank.worldbank.org/servlet/WDSCont...</td>\n",
       "      <td>http://imagebank.worldbank.org/servlet/WDSCont...</td>\n",
       "      <td>http://imagebank.worldbank.org/servlet/WDSCont...</td>\n",
       "      <td>ES</td>\n",
       "      <td>2007.0</td>\n",
       "      <td>SATISFACTORY</td>\n",
       "      <td>TK</td>\n",
       "    </tr>\n",
       "  </tbody>\n",
       "</table>\n",
       "</div>"
      ],
      "text/plain": [
       "   Proj ID                                Proj Name Fiscal year Exit FY  \\\n",
       "0  P077533  Emergency Community Empowerment Project  2002-01-01    2005   \n",
       "1  P077779  Emergency Infrastructure Reconstruction  2002-01-01    2006   \n",
       "\n",
       "       Country Region            Practice Prod Line Project Status AF  \\\n",
       "0  Afghanistan    SAR  Soc. Urb. Rur.& GP  IBRD/IDA         Closed  #   \n",
       "1  Afghanistan    SAR               Water  IBRD/IDA         Closed  #   \n",
       "\n",
       "  Par Proj ID IBRD+IDA+Grant Amt  \\\n",
       "0           #                 42   \n",
       "1           #                 33   \n",
       "\n",
       "                                            Abstract  \\\n",
       "0  The Emergency Community Empowerment and Public...   \n",
       "1  The objective of the Emergency Infrastructure ...   \n",
       "\n",
       "                                             PAD URL  \\\n",
       "0  http://imagebank.worldbank.org/servlet/WDSCont...   \n",
       "1  http://imagebank.worldbank.org/servlet/WDSCont...   \n",
       "\n",
       "                                             ICR URL  \\\n",
       "0  http://imagebank.worldbank.org/servlet/WDSCont...   \n",
       "1  http://imagebank.worldbank.org/servlet/WDSCont...   \n",
       "\n",
       "                                       ICRR_PPAR URL Eval Type  Eval FY  \\\n",
       "0  http://imagebank.worldbank.org/servlet/WDSCont...        ES   2006.0   \n",
       "1  http://imagebank.worldbank.org/servlet/WDSCont...        ES   2007.0   \n",
       "\n",
       "  IEG Outcome Rating Reviewer   \n",
       "0       SATISFACTORY        TK  \n",
       "1       SATISFACTORY        TK  "
      ]
     },
     "execution_count": 14,
     "metadata": {},
     "output_type": "execute_result"
    }
   ],
   "source": [
    "portfolio = pd.read_csv(csv_path, parse_dates= ['Fiscal year'])\n",
    "#portfolio = portfolio.loc[:, ['Proj ID', 'Proj Name', 'Fiscal year', 'Exit FY', 'Region', 'Practice']]\n",
    "portfolio.head(2)"
   ]
  },
  {
   "cell_type": "code",
   "execution_count": null,
   "metadata": {},
   "outputs": [],
   "source": []
  }
 ],
 "metadata": {
  "kernelspec": {
   "display_name": "text_analytics",
   "language": "python",
   "name": "text_analytics"
  },
  "language_info": {
   "codemirror_mode": {
    "name": "ipython",
    "version": 3
   },
   "file_extension": ".py",
   "mimetype": "text/x-python",
   "name": "python",
   "nbconvert_exporter": "python",
   "pygments_lexer": "ipython3",
   "version": "3.7.3"
  }
 },
 "nbformat": 4,
 "nbformat_minor": 2
}
