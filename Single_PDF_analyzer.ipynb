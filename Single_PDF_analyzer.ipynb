{
 "cells": [
  {
   "cell_type": "markdown",
   "metadata": {},
   "source": [
    "# Automated PDF Text Search and Analyzer (For a Single PDF File)\n",
    "Prepared by Hiro Yokoi, July 10, 2019<br><br>\n",
    "This is the temporary PDF analyzer to ease **text search** for **Portfolio Review and Analysis (PRA)** for managing urban spatial growth.\n",
    "\n",
    "**Limitations of this Script**\n",
    "- This PDF analyzer can only analyze ONE PDF file at a time at this moment. In the future, all the PDF files in a folder will be analyzed all at once.\n",
    "- If the file is OCR-read PDF, this PDF analyzer does not accurately read the text (particularly multiple phrases).\n",
    "\n",
    "**What you have to do**\n",
    "- All you have to do is to change `your_folder_path` and `your_pdf_file_name`. Then, the system will automatically anlyze the texts in the PDF.\n",
    "- If you want to change the search text, you can change the String part like `String = ['aaa', 'bbb', 'ccc', 'ddd']`. Be sure to type the **lower case** character. Text search is case sensitive."
   ]
  },
  {
   "cell_type": "markdown",
   "metadata": {},
   "source": [
    "### Import packages\n"
   ]
  },
  {
   "cell_type": "code",
   "execution_count": 2,
   "metadata": {},
   "outputs": [],
   "source": [
    "import pandas as pd\n",
    "import numpy as np\n",
    "import matplotlib.pyplot as plt\n",
    "import PyPDF2, textract, re, os\n",
    "from matplotlib.ticker import MaxNLocator\n",
    "%matplotlib inline\n",
    "import glob\n",
    "#from textblob import TextBlob\n",
    "#from nltk.tokenize import word_tokenize\n",
    "#from nltk.corpus import stopwords\n",
    "#import nltk\n",
    "#nltk.download('punkt')"
   ]
  },
  {
   "cell_type": "markdown",
   "metadata": {},
   "source": [
    "<div class=\"alert alert-block alert-info\">\n",
    "<b>Note:</b>\n",
    "    <br>When you install <b>textract</b> on your Windows computer, it will return an error. You need to execute following steps.<br>\n",
    "- <b>1.</b> you need to install Microsoft Visual Studio C++ Compiler for Python. You need to download and install <b>Visual Studio Community</b> at https://visualstudio.microsoft.com/downloads/#build-tools-for-visual-studio-2017.<br>\n",
    "- <b>2.</b> run following command line: <b>python -m pip install --upgrade pip setuptools wheel</b><br>\n",
    "- <b>3.</b> run follwoing command line: <b>pip install six --upgrade</b><br>\n",
    "- <b>4.</b> download EbookLib version 0.15 because textract has dependence on EbookLib version 0.15.After downloading the zip file at <b>https://github.com/aerkalov/ebooklib/releases</b>, unzipping it, and <b>manually revove the unicode character in the README.md file.</b><br>(unicode char is on <b>Line 44</b>. You can edit the file with text editter like notepad or Atom)<br>\n",
    "- <b>5.</b> run following command line: <b>conda install swig</b><br>\n",
    "- <b>6.</b> change the working directory to the unzipped Ebooklib folder: e.g. <b>cd C:\\Users\\username\\Desktop\\ebooklib-0.15</b><br>\n",
    "- <b>7.</b> run the command to install EbookLib : <b>pip install .</b><br>\n",
    "- <b>8.</b> run the textract installation : <b>pip install textract</b><br>\n",
    "(Reference: https://stackoverflow.com/questions/50743723/cant-install-textract-on-windows)\n",
    "</div>"
   ]
  },
  {
   "cell_type": "markdown",
   "metadata": {},
   "source": [
    "### Your Manual Input\n",
    "#### VERY IMPORTANT! Before runnning a command, manually create a blank folder on your desktop, change the name of the folder to \"PDF\", locate your PDF file in the folder."
   ]
  },
  {
   "cell_type": "markdown",
   "metadata": {},
   "source": [
    "First, type your UPI, then hit Enter."
   ]
  },
  {
   "cell_type": "code",
   "execution_count": 3,
   "metadata": {},
   "outputs": [],
   "source": [
    "#UPI = input('Please type your UPI number: ')"
   ]
  },
  {
   "cell_type": "markdown",
   "metadata": {},
   "source": [
    "Second, type your PDF file name, then hit Enter."
   ]
  },
  {
   "cell_type": "code",
   "execution_count": 4,
   "metadata": {},
   "outputs": [],
   "source": [
    "#temp_file = input('Copy and paste your file name here: ')"
   ]
  },
  {
   "cell_type": "markdown",
   "metadata": {},
   "source": [
    "Make sure your folder path and file name is correct."
   ]
  },
  {
   "cell_type": "code",
   "execution_count": 5,
   "metadata": {},
   "outputs": [],
   "source": [
    "#your_folder_path = r'C:\\Users\\wb' + str(UPI) + '\\Desktop\\PDF'\n",
    "#your_pdf_file_name = str(temp_file)\n",
    "#print('Your folder path is:', your_folder_path)\n",
    "#print('Your file name is:', your_pdf_file_name)"
   ]
  },
  {
   "cell_type": "code",
   "execution_count": 6,
   "metadata": {},
   "outputs": [],
   "source": [
    "# Backup for my personal use\n",
    "your_folder_path = r'C:\\Users\\wb535782\\Desktop'\n",
    "your_pdf_file_name = r'class_material.pdf'"
   ]
  },
  {
   "cell_type": "markdown",
   "metadata": {},
   "source": [
    "### Extract text from PDF file"
   ]
  },
  {
   "cell_type": "code",
   "execution_count": 7,
   "metadata": {},
   "outputs": [
    {
     "name": "stderr",
     "output_type": "stream",
     "text": [
      "PdfReadWarning: Xref table not zero-indexed. ID numbers for objects will be corrected. [pdf.py:1736]\n"
     ]
    }
   ],
   "source": [
    "# Establish complete file path\n",
    "complete_path = os.path.join(your_folder_path, your_pdf_file_name)\n",
    "\n",
    "# Open the pdf file\n",
    "pdfFileObj = open(complete_path,'rb')\n",
    "pdfReader = PyPDF2.PdfFileReader(pdfFileObj)\n",
    "\n",
    "# Discern the number of pages, so that search all the pages.\n",
    "num_pages = pdfReader.numPages\n",
    "\n",
    "# Extract text in each page.\n",
    "count = 0\n",
    "text = \"\"\n",
    "while count < num_pages:\n",
    "    pageObj = pdfReader.getPage(count)\n",
    "    count +=1\n",
    "    text += pageObj.extractText()\n",
    "\n",
    "# the condictional statement provides either the computer written document if its yes or the OCR scanned document if its no.\n",
    "if text != \"\":\n",
    "    text = text\n",
    "else:\n",
    "    text = textract.process(your_pdf_file_name, method='tesseract', language='eng')\n",
    "\n",
    "# Clean text by removing new page, tab, double white space.\n",
    "text = text.replace('\\n','').replace('\\t', '')\n",
    "text = \" \".join(text.split())\n",
    "text_lower = text.lower()\n",
    "#text_no_space = text_lower.replace(\" \", \"\")"
   ]
  },
  {
   "cell_type": "code",
   "execution_count": 8,
   "metadata": {},
   "outputs": [
    {
     "data": {
      "text/plain": [
       "'This content downloaded from 213.49.110.68 on Mon, 28 Jan 2019 09:25:27 UTCAll use subject to https://about.jstor.org/termsDEMOGRAPHIC RESEARCHVOLUME 37, ARTICLE 42, PAGES 1351-1382PUBLISHED 2 NOVEMBE'"
      ]
     },
     "execution_count": 8,
     "metadata": {},
     "output_type": "execute_result"
    }
   ],
   "source": [
    "# Show first 200 words.\n",
    "text[:200]"
   ]
  },
  {
   "cell_type": "markdown",
   "metadata": {},
   "source": [
    "### Define search phrases"
   ]
  },
  {
   "cell_type": "code",
   "execution_count": 9,
   "metadata": {},
   "outputs": [],
   "source": [
    "search_phrases = [\n",
    "    'raise awareness',\n",
    "    'regulatory reform',\n",
    "    'institutional capacity',\n",
    "    'policy reform',\n",
    "    'informal settlement',\n",
    "    'urban',\n",
    "    'peri-urban',\n",
    "    'municipal',\n",
    "    'gender',\n",
    "    'poverty map',\n",
    "    'land governance assessment framework',\n",
    "    'country diagnostics',\n",
    "    'annual land and poverty conference',\n",
    "    'land market assessment course',\n",
    "    'urbanization review',\n",
    "    'city development strategies',\n",
    "    'city development strategy',\n",
    "    'urbanization review',\n",
    "    'urban research symposium',\n",
    "    'land use planning course',\n",
    "    'land market assessment toolkits',\n",
    "    'tod implementation resources',\n",
    "    'transforming transportation conference',\n",
    "    'tokyo distance learning center',\n",
    "    'leaders in urban transport planning course',\n",
    "    'land readjustment course',\n",
    "    'approaches to urban slums',\n",
    "    'street addressing',\n",
    "    'street addressing and the management of cities course',\n",
    "    'upgrading urban informal settlements course',\n",
    "    'cadastre law',\n",
    "    'cadaster law',\n",
    "    'cadastre modernization',\n",
    "    'cadaster modernization',\n",
    "    'cadaster',\n",
    "    'cadastre',\n",
    "    'property rights',\n",
    "    'titling',\n",
    "    'land use',\n",
    "    'land acquisition',\n",
    "    'land assembly regulation',\n",
    "    'property tax',\n",
    "    'public land management',\n",
    "    'expropriation mechanism',\n",
    "    'land readjustment regulatory framework',\n",
    "    'public-private investment',\n",
    "    'separation and clarity of institutional mandates',\n",
    "    'participatory practice',\n",
    "    'metropolitan',\n",
    "    'multi-use cadaster',\n",
    "    'multi-use cadastre',\n",
    "    'multi use cadaster',\n",
    "    'multi use cadastre',\n",
    "    'integrated cadaster',\n",
    "    'integrated cadastre',\n",
    "    'hardware',\n",
    "    'equipment',\n",
    "    'software',\n",
    "    'database',\n",
    "    'management information system',\n",
    "    'geospatial data',\n",
    "    'geospatial',\n",
    "    'geographic information system',\n",
    "    'innovation',\n",
    "    'innovative technology',\n",
    "    'land allocated for public infrastructure',\n",
    "    'delineation',\n",
    "    'regulated land use',\n",
    "    'building code',\n",
    "    'monitoring land use',\n",
    "    'land use monitoring',\n",
    "    'map',\n",
    "    'land use planning',\n",
    "    'planning professionals',\n",
    "    'universities',\n",
    "    'university',\n",
    "    'academia',\n",
    "    'spatial planning',\n",
    "    'spatial',\n",
    "    'satellite',\n",
    "    'participatory urban and territorial planning',\n",
    "    'mapping sysytem',\n",
    "    'national planning agencies',\n",
    "    'national planning agency',\n",
    "    'urban plan',\n",
    "    'territorial plan',\n",
    "    'institutional arrangement',\n",
    "    'transit oriented development',\n",
    "    'transport-led land use',\n",
    "    'highway',\n",
    "    'road',\n",
    "    'slum upgrading',\n",
    "    'slum',\n",
    "    'land readjustment',\n",
    "    'land development',\n",
    "    'upgrade',\n",
    "    'upgrading',\n",
    "    'rehabilitation',\n",
    "    'modernization',\n",
    "    'consolidating',\n",
    "    'consolidate',\n",
    "    'land value',\n",
    "    'land value capture']\n",
    "\n",
    "search_phrases_capital = [\n",
    "    'GIS',\n",
    "    'LGAF',\n",
    "    'TDLC',\n",
    "    'NGO',\n",
    "    'CSO',\n",
    "    'PPP',\n",
    "    'TOD',\n",
    "    'LVC'\n",
    "]"
   ]
  },
  {
   "cell_type": "code",
   "execution_count": 10,
   "metadata": {},
   "outputs": [],
   "source": [
    "search_phrases_no_space = []\n",
    "for phrase in search_phrases:\n",
    "    search_text_no_space = phrase.replace(' ','')\n",
    "    search_phrases_no_space.append(search_text_no_space)"
   ]
  },
  {
   "cell_type": "markdown",
   "metadata": {},
   "source": [
    "### Analyze the frequency of search phrases in the PDF file"
   ]
  },
  {
   "cell_type": "markdown",
   "metadata": {},
   "source": [
    "Search capital sensitive texts."
   ]
  },
  {
   "cell_type": "code",
   "execution_count": 11,
   "metadata": {},
   "outputs": [],
   "source": [
    "# Search capital sensitive texts.\n",
    "counter_cap = 0\n",
    "dicts_cap = {}\n",
    "\n",
    "for phrase in search_phrases_capital:\n",
    "    if phrase in text:\n",
    "        counter_cap = text.count(phrase)\n",
    "        dicts_cap[phrase] = counter_cap\n",
    "        \n",
    "# Search small capital texts.\n",
    "counter_sc = 0\n",
    "dicts_sc = {}\n",
    "\n",
    "for phrase in search_phrases:\n",
    "    if phrase in text_lower:\n",
    "        counter_sc = text_lower.count(phrase)\n",
    "        dicts_sc[phrase] = counter_sc\n",
    "\n",
    "# Merge two search results into one dictionary\n",
    "def merge_dict(dict1, dict2): \n",
    "    res = {**dict1, **dict2} \n",
    "    return res\n",
    "dict_both = merge_dict(dicts_cap, dicts_sc)\n",
    "\n",
    "# Create dataframe\n",
    "df = pd.DataFrame(dict_both, index = [your_pdf_file_name], columns = (search_phrases + search_phrases_capital))"
   ]
  },
  {
   "cell_type": "markdown",
   "metadata": {},
   "source": [
    "### Show the result including null values."
   ]
  },
  {
   "cell_type": "code",
   "execution_count": 12,
   "metadata": {},
   "outputs": [
    {
     "data": {
      "text/html": [
       "<div>\n",
       "<style scoped>\n",
       "    .dataframe tbody tr th:only-of-type {\n",
       "        vertical-align: middle;\n",
       "    }\n",
       "\n",
       "    .dataframe tbody tr th {\n",
       "        vertical-align: top;\n",
       "    }\n",
       "\n",
       "    .dataframe thead th {\n",
       "        text-align: right;\n",
       "    }\n",
       "</style>\n",
       "<table border=\"1\" class=\"dataframe\">\n",
       "  <thead>\n",
       "    <tr style=\"text-align: right;\">\n",
       "      <th></th>\n",
       "      <th>raise awareness</th>\n",
       "      <th>regulatory reform</th>\n",
       "      <th>institutional capacity</th>\n",
       "      <th>policy reform</th>\n",
       "      <th>informal settlement</th>\n",
       "      <th>urban</th>\n",
       "      <th>peri-urban</th>\n",
       "      <th>municipal</th>\n",
       "      <th>gender</th>\n",
       "      <th>poverty map</th>\n",
       "      <th>...</th>\n",
       "      <th>land value</th>\n",
       "      <th>land value capture</th>\n",
       "      <th>GIS</th>\n",
       "      <th>LGAF</th>\n",
       "      <th>TDLC</th>\n",
       "      <th>NGO</th>\n",
       "      <th>CSO</th>\n",
       "      <th>PPP</th>\n",
       "      <th>TOD</th>\n",
       "      <th>LVC</th>\n",
       "    </tr>\n",
       "  </thead>\n",
       "  <tbody>\n",
       "    <tr>\n",
       "      <th>class_material.pdf</th>\n",
       "      <td>NaN</td>\n",
       "      <td>NaN</td>\n",
       "      <td>NaN</td>\n",
       "      <td>NaN</td>\n",
       "      <td>NaN</td>\n",
       "      <td>NaN</td>\n",
       "      <td>NaN</td>\n",
       "      <td>NaN</td>\n",
       "      <td>31</td>\n",
       "      <td>NaN</td>\n",
       "      <td>...</td>\n",
       "      <td>NaN</td>\n",
       "      <td>NaN</td>\n",
       "      <td>NaN</td>\n",
       "      <td>NaN</td>\n",
       "      <td>NaN</td>\n",
       "      <td>1</td>\n",
       "      <td>NaN</td>\n",
       "      <td>NaN</td>\n",
       "      <td>NaN</td>\n",
       "      <td>NaN</td>\n",
       "    </tr>\n",
       "  </tbody>\n",
       "</table>\n",
       "<p>1 rows × 111 columns</p>\n",
       "</div>"
      ],
      "text/plain": [
       "                   raise awareness regulatory reform institutional capacity  \\\n",
       "class_material.pdf             NaN               NaN                    NaN   \n",
       "\n",
       "                   policy reform informal settlement urban peri-urban  \\\n",
       "class_material.pdf           NaN                 NaN   NaN        NaN   \n",
       "\n",
       "                   municipal  gender poverty map  ... land value  \\\n",
       "class_material.pdf       NaN      31         NaN  ...        NaN   \n",
       "\n",
       "                   land value capture  GIS LGAF TDLC NGO  CSO  PPP  TOD  LVC  \n",
       "class_material.pdf                NaN  NaN  NaN  NaN   1  NaN  NaN  NaN  NaN  \n",
       "\n",
       "[1 rows x 111 columns]"
      ]
     },
     "execution_count": 12,
     "metadata": {},
     "output_type": "execute_result"
    }
   ],
   "source": [
    "df"
   ]
  },
  {
   "cell_type": "markdown",
   "metadata": {},
   "source": [
    "### Remove null values and show the results."
   ]
  },
  {
   "cell_type": "code",
   "execution_count": 13,
   "metadata": {},
   "outputs": [
    {
     "data": {
      "text/html": [
       "<div>\n",
       "<style scoped>\n",
       "    .dataframe tbody tr th:only-of-type {\n",
       "        vertical-align: middle;\n",
       "    }\n",
       "\n",
       "    .dataframe tbody tr th {\n",
       "        vertical-align: top;\n",
       "    }\n",
       "\n",
       "    .dataframe thead th {\n",
       "        text-align: right;\n",
       "    }\n",
       "</style>\n",
       "<table border=\"1\" class=\"dataframe\">\n",
       "  <thead>\n",
       "    <tr style=\"text-align: right;\">\n",
       "      <th></th>\n",
       "      <th>gender</th>\n",
       "      <th>software</th>\n",
       "      <th>database</th>\n",
       "      <th>map</th>\n",
       "      <th>university</th>\n",
       "      <th>road</th>\n",
       "      <th>NGO</th>\n",
       "    </tr>\n",
       "  </thead>\n",
       "  <tbody>\n",
       "    <tr>\n",
       "      <th>class_material.pdf</th>\n",
       "      <td>31</td>\n",
       "      <td>4</td>\n",
       "      <td>2</td>\n",
       "      <td>3</td>\n",
       "      <td>5</td>\n",
       "      <td>8</td>\n",
       "      <td>1</td>\n",
       "    </tr>\n",
       "  </tbody>\n",
       "</table>\n",
       "</div>"
      ],
      "text/plain": [
       "                    gender  software  database  map  university  road  NGO\n",
       "class_material.pdf      31         4         2    3           5     8    1"
      ]
     },
     "execution_count": 13,
     "metadata": {},
     "output_type": "execute_result"
    }
   ],
   "source": [
    "df_na_dropped = df.dropna(axis=1, how='all')\n",
    "df_na_dropped"
   ]
  },
  {
   "cell_type": "markdown",
   "metadata": {},
   "source": [
    "### Visualize the search result."
   ]
  },
  {
   "cell_type": "code",
   "execution_count": 14,
   "metadata": {},
   "outputs": [
    {
     "data": {
      "image/png": "[encoded data removed]",
      "text/plain": [
       "<Figure size 864x576 with 1 Axes>"
      ]
     },
     "metadata": {
      "needs_background": "light"
     },
     "output_type": "display_data"
    }
   ],
   "source": [
    "# Transpose the datafrme\n",
    "df_vis = pd.DataFrame(df_na_dropped.stack().reset_index())\n",
    "df_vis.columns = ['file', 'keyword', 'frequency']\n",
    "df_vis = df_vis.sort_values(by = ['frequency'], ascending = True)\n",
    "\n",
    "# Make bar plot\n",
    "ax = df_vis.plot.barh(figsize = [12,8], x = 'keyword', y = 'frequency', color = '#62FD08', legend = False)\n",
    "plt.xlabel('Frequency', fontsize = 16)\n",
    "plt.ylabel('Search Keywords', fontsize = 16)\n",
    "plt.title('Term Frequency', fontsize = 20)\n",
    "ax.xaxis.set_major_locator(MaxNLocator(integer = True))"
   ]
  },
  {
   "cell_type": "markdown",
   "metadata": {},
   "source": [
    "### Export the result with null values"
   ]
  },
  {
   "cell_type": "code",
   "execution_count": 15,
   "metadata": {},
   "outputs": [],
   "source": [
    "#df.to_csv(your_pdf_file_name + '.csv')"
   ]
  },
  {
   "cell_type": "markdown",
   "metadata": {},
   "source": [
    "### Export the result without null values"
   ]
  },
  {
   "cell_type": "code",
   "execution_count": 16,
   "metadata": {},
   "outputs": [],
   "source": [
    "#df_na_dropped.to_csv(your_pdf_file_name + '_nonnull.csv')"
   ]
  },
  {
   "cell_type": "code",
   "execution_count": null,
   "metadata": {},
   "outputs": [],
   "source": []
  }
 ],
 "metadata": {
  "kernelspec": {
   "display_name": "text_analytics",
   "language": "python",
   "name": "text_analytics"
  },
  "language_info": {
   "codemirror_mode": {
    "name": "ipython",
    "version": 3
   },
   "file_extension": ".py",
   "mimetype": "text/x-python",
   "name": "python",
   "nbconvert_exporter": "python",
   "pygments_lexer": "ipython3",
   "version": "3.7.3"
  }
 },
 "nbformat": 4,
 "nbformat_minor": 2
}
